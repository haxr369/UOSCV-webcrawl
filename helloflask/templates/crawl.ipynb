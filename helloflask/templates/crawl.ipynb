{
 "cells": [
  {
   "cell_type": "code",
   "execution_count": 4,
   "metadata": {},
   "outputs": [
    {
     "ename": "ModuleNotFoundError",
     "evalue": "No module named 'utility'",
     "output_type": "error",
     "traceback": [
      "\u001b[0;31m---------------------------------------------------------------------------\u001b[0m",
      "\u001b[0;31mModuleNotFoundError\u001b[0m                       Traceback (most recent call last)",
      "\u001b[1;32m/home/dir_v/flaskapp/helloflask/templates/crawl.ipynb Cell 1\u001b[0m in \u001b[0;36m<cell line: 1>\u001b[0;34m()\u001b[0m\n\u001b[0;32m----> <a href='vscode-notebook-cell://attached-container%2B7b22636f6e7461696e65724e616d65223a222f637261776c696e67222c2273657474696e6773223a7b22686f7374223a227373683a2f2f302e7463702e6a702e6e67726f6b2e696f227d7d/home/dir_v/flaskapp/helloflask/templates/crawl.ipynb#ch0000000vscode-remote?line=0'>1</a>\u001b[0m \u001b[39mimport\u001b[39;00m \u001b[39mutility\u001b[39;00m\n",
      "\u001b[0;31mModuleNotFoundError\u001b[0m: No module named 'utility'"
     ]
    }
   ],
   "source": [
    "import utility"
   ]
  },
  {
   "cell_type": "code",
   "execution_count": 5,
   "metadata": {},
   "outputs": [
    {
     "ename": "NameError",
     "evalue": "name 'utility' is not defined",
     "output_type": "error",
     "traceback": [
      "\u001b[0;31m---------------------------------------------------------------------------\u001b[0m",
      "\u001b[0;31mNameError\u001b[0m                                 Traceback (most recent call last)",
      "\u001b[1;32m/home/dir_v/flaskapp/helloflask/templates/crawl.ipynb Cell 2\u001b[0m in \u001b[0;36m<cell line: 3>\u001b[0;34m()\u001b[0m\n\u001b[1;32m      <a href='vscode-notebook-cell://attached-container%2B7b22636f6e7461696e65724e616d65223a222f637261776c696e67222c2273657474696e6773223a7b22686f7374223a227373683a2f2f302e7463702e6a702e6e67726f6b2e696f227d7d/home/dir_v/flaskapp/helloflask/templates/crawl.ipynb#ch0000001vscode-remote?line=1'>2</a>\u001b[0m plant_list \u001b[39m=\u001b[39m[\u001b[39m\"\u001b[39m\u001b[39mBetula schmidtii Regel flower\u001b[39m\u001b[39m\"\u001b[39m,\u001b[39m\"\u001b[39m\u001b[39mBakdal birch flower\u001b[39m\u001b[39m\"\u001b[39m,\u001b[39m\"\u001b[39m\u001b[39mBetula schmidtii Regel leaf\u001b[39m\u001b[39m\"\u001b[39m]\n\u001b[1;32m      <a href='vscode-notebook-cell://attached-container%2B7b22636f6e7461696e65724e616d65223a222f637261776c696e67222c2273657474696e6773223a7b22686f7374223a227373683a2f2f302e7463702e6a702e6e67726f6b2e696f227d7d/home/dir_v/flaskapp/helloflask/templates/crawl.ipynb#ch0000001vscode-remote?line=2'>3</a>\u001b[0m \u001b[39mfor\u001b[39;00m exkey \u001b[39min\u001b[39;00m plant_list:\n\u001b[0;32m----> <a href='vscode-notebook-cell://attached-container%2B7b22636f6e7461696e65724e616d65223a222f637261776c696e67222c2273657474696e6773223a7b22686f7374223a227373683a2f2f302e7463702e6a702e6e67726f6b2e696f227d7d/home/dir_v/flaskapp/helloflask/templates/crawl.ipynb#ch0000001vscode-remote?line=3'>4</a>\u001b[0m     utility\u001b[39m.\u001b[39mdownload_im(\u001b[39m\"\u001b[39m\u001b[39m박달나무\u001b[39m\u001b[39m\"\u001b[39m,exkey,\u001b[39mint\u001b[39m(imagenumb))\n",
      "\u001b[0;31mNameError\u001b[0m: name 'utility' is not defined"
     ]
    }
   ],
   "source": [
    "imagenumb=300\n",
    "plant_list =[\"Betula schmidtii Regel flower\",\"Bakdal birch flower\",\"Betula schmidtii Regel leaf\"]\n",
    "for exkey in plant_list:\n",
    "    utility.download_im(\"박달나무\",exkey,int(imagenumb))"
   ]
  },
  {
   "cell_type": "code",
   "execution_count": null,
   "metadata": {},
   "outputs": [],
   "source": []
  }
 ],
 "metadata": {
  "kernelspec": {
   "display_name": "Python 3.8.10 64-bit",
   "language": "python",
   "name": "python3"
  },
  "language_info": {
   "codemirror_mode": {
    "name": "ipython",
    "version": 3
   },
   "file_extension": ".py",
   "mimetype": "text/x-python",
   "name": "python",
   "nbconvert_exporter": "python",
   "pygments_lexer": "ipython3",
   "version": "3.8.10"
  },
  "orig_nbformat": 4,
  "vscode": {
   "interpreter": {
    "hash": "916dbcbb3f70747c44a77c7bcd40155683ae19c65e1c03b4aa3499c5328201f1"
   }
  }
 },
 "nbformat": 4,
 "nbformat_minor": 2
}
